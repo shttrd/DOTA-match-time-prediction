{
 "cells": [
  {
   "cell_type": "markdown",
   "metadata": {},
   "source": [
    "**Загрузим все части нашего датафрейма**"
   ]
  },
  {
   "cell_type": "code",
   "execution_count": 8,
   "metadata": {},
   "outputs": [],
   "source": [
    "import pandas as pd\n",
    "heroes = pd.read_csv('../input/heroes/heroes', encoding='ISO-8859-1', error_bad_lines=False)\n",
    "lobby_game_mode = pd.read_csv('../input/lobby-game-mode/lobby_game_mode', encoding='ISO-8859-1', error_bad_lines=False)\n",
    "Times_of_Day = pd.read_csv('../input/times-of-day/Times_of_Day', encoding='ISO-8859-1', error_bad_lines=False)"
   ]
  },
  {
   "cell_type": "code",
   "execution_count": 9,
   "metadata": {},
   "outputs": [],
   "source": [
    "first_df = pd.read_csv('../input/firstf/first_df', encoding='ISO-8859-1', error_bad_lines=False)"
   ]
  },
  {
   "cell_type": "code",
   "execution_count": 10,
   "metadata": {},
   "outputs": [],
   "source": [
    "y = pd.read_csv('../input/yyyyyyyyyyyyyyyyyyyyy/Y', encoding='ISO-8859-1', error_bad_lines=False, header=None)"
   ]
  },
  {
   "cell_type": "markdown",
   "metadata": {},
   "source": [
    "Удалим лишние стобцы"
   ]
  },
  {
   "cell_type": "code",
   "execution_count": 11,
   "metadata": {},
   "outputs": [
    {
     "data": {
      "text/html": [
       "<div>\n",
       "<style scoped>\n",
       "    .dataframe tbody tr th:only-of-type {\n",
       "        vertical-align: middle;\n",
       "    }\n",
       "\n",
       "    .dataframe tbody tr th {\n",
       "        vertical-align: top;\n",
       "    }\n",
       "\n",
       "    .dataframe thead th {\n",
       "        text-align: right;\n",
       "    }\n",
       "</style>\n",
       "<table border=\"1\" class=\"dataframe\">\n",
       "  <thead>\n",
       "    <tr style=\"text-align: right;\">\n",
       "      <th></th>\n",
       "      <th>1</th>\n",
       "    </tr>\n",
       "  </thead>\n",
       "  <tbody>\n",
       "    <tr>\n",
       "      <th>0</th>\n",
       "      <td>1240</td>\n",
       "    </tr>\n",
       "    <tr>\n",
       "      <th>1</th>\n",
       "      <td>1355</td>\n",
       "    </tr>\n",
       "    <tr>\n",
       "      <th>2</th>\n",
       "      <td>1168</td>\n",
       "    </tr>\n",
       "    <tr>\n",
       "      <th>3</th>\n",
       "      <td>1425</td>\n",
       "    </tr>\n",
       "    <tr>\n",
       "      <th>4</th>\n",
       "      <td>1311</td>\n",
       "    </tr>\n",
       "    <tr>\n",
       "      <th>...</th>\n",
       "      <td>...</td>\n",
       "    </tr>\n",
       "    <tr>\n",
       "      <th>2980245</th>\n",
       "      <td>2281</td>\n",
       "    </tr>\n",
       "    <tr>\n",
       "      <th>2980246</th>\n",
       "      <td>2875</td>\n",
       "    </tr>\n",
       "    <tr>\n",
       "      <th>2980247</th>\n",
       "      <td>2598</td>\n",
       "    </tr>\n",
       "    <tr>\n",
       "      <th>2980248</th>\n",
       "      <td>2297</td>\n",
       "    </tr>\n",
       "    <tr>\n",
       "      <th>2980249</th>\n",
       "      <td>1962</td>\n",
       "    </tr>\n",
       "  </tbody>\n",
       "</table>\n",
       "<p>2980250 rows × 1 columns</p>\n",
       "</div>"
      ],
      "text/plain": [
       "            1\n",
       "0        1240\n",
       "1        1355\n",
       "2        1168\n",
       "3        1425\n",
       "4        1311\n",
       "...       ...\n",
       "2980245  2281\n",
       "2980246  2875\n",
       "2980247  2598\n",
       "2980248  2297\n",
       "2980249  1962\n",
       "\n",
       "[2980250 rows x 1 columns]"
      ]
     },
     "execution_count": 11,
     "metadata": {},
     "output_type": "execute_result"
    }
   ],
   "source": [
    "y.drop([0], axis=1, inplace=True)\n",
    "y"
   ]
  },
  {
   "cell_type": "code",
   "execution_count": 12,
   "metadata": {},
   "outputs": [],
   "source": [
    "heroes.drop(['Unnamed: 0'], axis=1, inplace=True)\n",
    "lobby_game_mode.drop(['Unnamed: 0'], axis=1, inplace=True)\n",
    "Times_of_Day.drop(['Unnamed: 0'], axis=1, inplace=True)\n",
    "first_df.drop(['Unnamed: 0'], axis=1, inplace=True)"
   ]
  },
  {
   "cell_type": "markdown",
   "metadata": {},
   "source": [
    "**Создадим из каждой части(кроме целевого признака) разреженную матрицу**"
   ]
  },
  {
   "cell_type": "code",
   "execution_count": 13,
   "metadata": {},
   "outputs": [],
   "source": [
    "from scipy.sparse import csr_matrix, hstack"
   ]
  },
  {
   "cell_type": "code",
   "execution_count": 14,
   "metadata": {},
   "outputs": [],
   "source": [
    "sparse_heroes = csr_matrix(heroes)\n",
    "sparse_lobby_game_mode = csr_matrix(lobby_game_mode)\n",
    "sparse_Times_of_Day = csr_matrix(Times_of_Day)"
   ]
  },
  {
   "cell_type": "code",
   "execution_count": 15,
   "metadata": {},
   "outputs": [
    {
     "data": {
      "text/html": [
       "<div>\n",
       "<style scoped>\n",
       "    .dataframe tbody tr th:only-of-type {\n",
       "        vertical-align: middle;\n",
       "    }\n",
       "\n",
       "    .dataframe tbody tr th {\n",
       "        vertical-align: top;\n",
       "    }\n",
       "\n",
       "    .dataframe thead th {\n",
       "        text-align: right;\n",
       "    }\n",
       "</style>\n",
       "<table border=\"1\" class=\"dataframe\">\n",
       "  <thead>\n",
       "    <tr style=\"text-align: right;\">\n",
       "      <th></th>\n",
       "      <th>start_time</th>\n",
       "      <th>avg_mmr</th>\n",
       "      <th>day_in_week</th>\n",
       "    </tr>\n",
       "  </thead>\n",
       "  <tbody>\n",
       "    <tr>\n",
       "      <th>0</th>\n",
       "      <td>1598044669</td>\n",
       "      <td>2632.000000</td>\n",
       "      <td>5</td>\n",
       "    </tr>\n",
       "    <tr>\n",
       "      <th>1</th>\n",
       "      <td>1598044529</td>\n",
       "      <td>1805.000000</td>\n",
       "      <td>5</td>\n",
       "    </tr>\n",
       "    <tr>\n",
       "      <th>2</th>\n",
       "      <td>1598044494</td>\n",
       "      <td>4701.473684</td>\n",
       "      <td>5</td>\n",
       "    </tr>\n",
       "    <tr>\n",
       "      <th>3</th>\n",
       "      <td>1598044469</td>\n",
       "      <td>4089.000000</td>\n",
       "      <td>5</td>\n",
       "    </tr>\n",
       "    <tr>\n",
       "      <th>4</th>\n",
       "      <td>1598044460</td>\n",
       "      <td>1549.000000</td>\n",
       "      <td>5</td>\n",
       "    </tr>\n",
       "    <tr>\n",
       "      <th>...</th>\n",
       "      <td>...</td>\n",
       "      <td>...</td>\n",
       "      <td>...</td>\n",
       "    </tr>\n",
       "    <tr>\n",
       "      <th>2980245</th>\n",
       "      <td>1583268409</td>\n",
       "      <td>3115.000000</td>\n",
       "      <td>2</td>\n",
       "    </tr>\n",
       "    <tr>\n",
       "      <th>2980246</th>\n",
       "      <td>1583268416</td>\n",
       "      <td>2154.842105</td>\n",
       "      <td>2</td>\n",
       "    </tr>\n",
       "    <tr>\n",
       "      <th>2980247</th>\n",
       "      <td>1583268421</td>\n",
       "      <td>3144.000000</td>\n",
       "      <td>2</td>\n",
       "    </tr>\n",
       "    <tr>\n",
       "      <th>2980248</th>\n",
       "      <td>1583268415</td>\n",
       "      <td>1763.052632</td>\n",
       "      <td>2</td>\n",
       "    </tr>\n",
       "    <tr>\n",
       "      <th>2980249</th>\n",
       "      <td>1583268414</td>\n",
       "      <td>1856.000000</td>\n",
       "      <td>2</td>\n",
       "    </tr>\n",
       "  </tbody>\n",
       "</table>\n",
       "<p>2980250 rows × 3 columns</p>\n",
       "</div>"
      ],
      "text/plain": [
       "         start_time      avg_mmr  day_in_week\n",
       "0        1598044669  2632.000000            5\n",
       "1        1598044529  1805.000000            5\n",
       "2        1598044494  4701.473684            5\n",
       "3        1598044469  4089.000000            5\n",
       "4        1598044460  1549.000000            5\n",
       "...             ...          ...          ...\n",
       "2980245  1583268409  3115.000000            2\n",
       "2980246  1583268416  2154.842105            2\n",
       "2980247  1583268421  3144.000000            2\n",
       "2980248  1583268415  1763.052632            2\n",
       "2980249  1583268414  1856.000000            2\n",
       "\n",
       "[2980250 rows x 3 columns]"
      ]
     },
     "execution_count": 15,
     "metadata": {},
     "output_type": "execute_result"
    }
   ],
   "source": [
    "first_df.drop(['lobby_type', 'game_mode'], axis=1, inplace=True)\n",
    "first_df"
   ]
  },
  {
   "cell_type": "code",
   "execution_count": 16,
   "metadata": {},
   "outputs": [],
   "source": [
    "full_df = hstack([first_df, sparse_heroes, sparse_lobby_game_mode, sparse_Times_of_Day]).tocsr()"
   ]
  },
  {
   "cell_type": "markdown",
   "metadata": {},
   "source": [
    "**Посчитаем среднюю абсолютную ошибку наивного предсказания(будем всегда предсказывать медиану)**"
   ]
  },
  {
   "cell_type": "code",
   "execution_count": 17,
   "metadata": {},
   "outputs": [
    {
     "data": {
      "text/plain": [
       "1    2267.0\n",
       "dtype: float64"
      ]
     },
     "execution_count": 17,
     "metadata": {},
     "output_type": "execute_result"
    }
   ],
   "source": [
    "y.median()"
   ]
  },
  {
   "cell_type": "code",
   "execution_count": 18,
   "metadata": {},
   "outputs": [],
   "source": [
    "y_median=2267.0"
   ]
  },
  {
   "cell_type": "code",
   "execution_count": 19,
   "metadata": {},
   "outputs": [
    {
     "name": "stdout",
     "output_type": "stream",
     "text": [
      "CPU times: user 2.75 s, sys: 202 ms, total: 2.95 s\n",
      "Wall time: 2.96 s\n"
     ]
    }
   ],
   "source": [
    "%%time\n",
    "X_train, X_test, y_train, y_test = train_test_split(full_df, y, test_size=0.8, random_state=0)\n",
    "pred_one_value = []\n",
    "for i in range(2384200):\n",
    "    pred_one_value.append([y_median])"
   ]
  },
  {
   "cell_type": "code",
   "execution_count": 20,
   "metadata": {},
   "outputs": [
    {
     "name": "stdout",
     "output_type": "stream",
     "text": [
      "443.03043452730475\n"
     ]
    }
   ],
   "source": [
    "print(mean_absolute_error(y_test, pred_one_value))"
   ]
  },
  {
   "cell_type": "markdown",
   "metadata": {},
   "source": [
    "**Проделаем тоже самое со средним**"
   ]
  },
  {
   "cell_type": "code",
   "execution_count": 21,
   "metadata": {},
   "outputs": [
    {
     "data": {
      "text/plain": [
       "1    2315.147882\n",
       "dtype: float64"
      ]
     },
     "execution_count": 21,
     "metadata": {},
     "output_type": "execute_result"
    }
   ],
   "source": [
    "y.mean()"
   ]
  },
  {
   "cell_type": "code",
   "execution_count": 22,
   "metadata": {},
   "outputs": [],
   "source": [
    "y_mean = 2315.147882"
   ]
  },
  {
   "cell_type": "code",
   "execution_count": 23,
   "metadata": {},
   "outputs": [
    {
     "name": "stdout",
     "output_type": "stream",
     "text": [
      "CPU times: user 2.84 s, sys: 203 ms, total: 3.05 s\n",
      "Wall time: 3.05 s\n"
     ]
    }
   ],
   "source": [
    "%%time\n",
    "X_train, X_test, y_train, y_test = train_test_split(full_df, y, test_size=0.8, random_state=0)\n",
    "pred_one_value = []\n",
    "for i in range(2384200):\n",
    "    pred_one_value.append([y_mean])"
   ]
  },
  {
   "cell_type": "code",
   "execution_count": 24,
   "metadata": {},
   "outputs": [
    {
     "name": "stdout",
     "output_type": "stream",
     "text": [
      "444.64414639589313\n"
     ]
    }
   ],
   "source": [
    "print(mean_absolute_error(y_test, pred_one_value))"
   ]
  },
  {
   "cell_type": "markdown",
   "metadata": {},
   "source": [
    "**Результат чуть лучше у медианы**"
   ]
  },
  {
   "cell_type": "markdown",
   "metadata": {},
   "source": [
    "**Импортируем нужные для обучения библиотеки и напишем функции для обучения различных алгоритмов**"
   ]
  },
  {
   "cell_type": "code",
   "execution_count": 6,
   "metadata": {},
   "outputs": [],
   "source": [
    "from sklearn.preprocessing import StandardScaler\n",
    "from sklearn.linear_model import LinearRegression\n",
    "from sklearn.model_selection import KFold\n",
    "from sklearn.model_selection import cross_val_score\n",
    "from sklearn.model_selection import train_test_split"
   ]
  },
  {
   "cell_type": "code",
   "execution_count": 7,
   "metadata": {},
   "outputs": [],
   "source": [
    "from xgboost import XGBRegressor\n",
    "from sklearn.metrics import mean_absolute_error\n",
    "import numpy as np"
   ]
  },
  {
   "cell_type": "code",
   "execution_count": 31,
   "metadata": {},
   "outputs": [],
   "source": [
    "def learning_XGB(n_est=1000, lr=0.05, md=7, ts=0.8, rs=0):\n",
    "    print(n_est, lr, md, ts, end=' ')\n",
    "    reg_xgb = XGBRegressor(n_estimators=n_est, learning_rate=lr, gamma=0, subsample=0.75,max_depth=md,random_state=5,\n",
    "                   min_child_weight=1,colsample_bytree=0.8)\n",
    "    X_train, X_test, y_train, y_test = train_test_split(full_df, y, test_size=ts, random_state=rs)\n",
    "    reg_xgb.fit(X_train, y_train)\n",
    "    predictions = reg_xgb.predict(X_test)\n",
    "    metric = mean_absolute_error(y_test, predictions)\n",
    "    print(metric)\n",
    "    results_XGB.append((metric, n_est, lr, md, ts))"
   ]
  },
  {
   "cell_type": "code",
   "execution_count": 23,
   "metadata": {},
   "outputs": [],
   "source": [
    "from sklearn.ensemble import RandomForestRegressor\n",
    "def learning_random_forest(n_est=100, md=7):\n",
    "    print(n_est, md, end=' ')\n",
    "    regr = RandomForestRegressor(max_depth=md, n_estimators=n_est)\n",
    "    X_train, X_test, y_train, y_test = train_test_split(full_df, y, test_size=0.8, random_state=0)\n",
    "    regr.fit(X_train, y_train)\n",
    "    predictions = regr.predict(X_test)\n",
    "    metric = mean_absolute_error(y_test, predictions)\n",
    "    print(metric)\n",
    "    results_rf.append((metric, n_est, md))"
   ]
  },
  {
   "cell_type": "code",
   "execution_count": 24,
   "metadata": {},
   "outputs": [],
   "source": [
    "from sklearn.ensemble import GradientBoostingRegressor\n",
    "def learning_GradientBoosting(n_est=100, md=7, lr=0.1):\n",
    "    print(n_est, lr, md, end=' ')\n",
    "    regr = GradientBoostingRegressor(max_depth=md, n_estimators=n_est)\n",
    "    X_train, X_test, y_train, y_test = train_test_split(full_df, y, test_size=0.97, random_state=0)\n",
    "    regr.fit(X_train, y_train)\n",
    "    predictions = regr.predict(X_test)\n",
    "    metric = mean_absolute_error(y_test, predictions)\n",
    "    print(metric)\n",
    "    results_grad_boosting.append((metric, n_est, lr, md))"
   ]
  },
  {
   "cell_type": "code",
   "execution_count": 4,
   "metadata": {},
   "outputs": [],
   "source": [
    "def learning_linear(ts=0.8):\n",
    "    print(ts, end=' ')\n",
    "    from sklearn.linear_model import LinearRegression\n",
    "    reg = LinearRegression()\n",
    "    X_train, X_test, y_train, y_test = train_test_split(full_df, y, test_size=ts, random_state=0)\n",
    "    reg.fit(X_train, y_train)\n",
    "    predictions = reg.predict(X_test)\n",
    "    print(len(predictions))\n",
    "    metric = mean_absolute_error(y_test, predictions)\n",
    "    results_linear.append((metric, ts))\n",
    "    print(metric)"
   ]
  },
  {
   "cell_type": "markdown",
   "metadata": {},
   "source": [
    "**Создадим списки для сохранения результатов работы алгоритмов**"
   ]
  },
  {
   "cell_type": "code",
   "execution_count": 26,
   "metadata": {},
   "outputs": [],
   "source": [
    "results_XGB = [432,\n",
    " 433.0227,\n",
    " (434.86605677549466, 500),\n",
    " (430.07820174550193, 1500),\n",
    " (428.5033875546514, 2000),\n",
    " (422.61867876379694, 5000),\n",
    " (430.7697705048515, 800, 0.1),\n",
    " (427.7687350481612, 1500, 0.1),\n",
    " (430.7657547477254, 800, 0.2),\n",
    " (448.61037582660856, 800, 0.5),\n",
    " (434.4145672227297, 800, 0.3),\n",
    " (440.9305807259365, 800, 0.0078125, 7),\n",
    " (437.67679178637707, 800, 0.015625, 7),\n",
    " (434.6860178017969, 800, 0.03125, 7),\n",
    " (432.18326556042604, 800, 0.0625, 7),\n",
    " (430.4772854392218, 800, 0.125, 7),\n",
    " (442.8380501377253, 800, 0.125, 1),\n",
    " (439.55859512705644, 800, 0.125, 2),\n",
    " (438.18399326743975, 800, 0.125, 3),\n",
    " (436.84285627943297, 800, 0.125, 4),\n",
    " (435.19394660516997, 800, 0.125, 5),\n",
    " (432.95661956759085, 800, 0.125, 6),\n",
    " (430.4772854392218, 800, 0.125, 7),\n",
    " (427.5080559266423, 800, 0.125, 8),\n",
    " (424.4342987356769, 800, 0.125, 9),\n",
    " (421.15249778662496, 800, 0.125, 10),\n",
    " (417.53611720694215, 800, 0.125, 11),\n",
    " (413.9346006081626, 800, 0.125, 12),\n",
    "(800, 0.125, 8, 402.8108188798805),\n",
    "(800, 0.125,13, 386.05734157794893),\n",
    "(800, 0.125,18, 373.5684148064328),\n",
    "(800, 0.125, 23, 370.99645250621074)]\n",
    "results_linear = []\n",
    "results_rf =[]"
   ]
  },
  {
   "cell_type": "code",
   "execution_count": 27,
   "metadata": {},
   "outputs": [],
   "source": [
    "results_grad_boosting = []"
   ]
  },
  {
   "cell_type": "markdown",
   "metadata": {},
   "source": [
    "**Обучим случайный лес с разным числом деревьев**"
   ]
  },
  {
   "cell_type": "code",
   "execution_count": 28,
   "metadata": {},
   "outputs": [
    {
     "name": "stdout",
     "output_type": "stream",
     "text": [
      "100 7 "
     ]
    },
    {
     "name": "stderr",
     "output_type": "stream",
     "text": [
      "/opt/conda/lib/python3.7/site-packages/ipykernel_launcher.py:6: DataConversionWarning: A column-vector y was passed when a 1d array was expected. Please change the shape of y to (n_samples,), for example using ravel().\n",
      "  \n"
     ]
    },
    {
     "name": "stdout",
     "output_type": "stream",
     "text": [
      "427.7648822085617\n",
      "200 7 "
     ]
    },
    {
     "name": "stderr",
     "output_type": "stream",
     "text": [
      "/opt/conda/lib/python3.7/site-packages/ipykernel_launcher.py:6: DataConversionWarning: A column-vector y was passed when a 1d array was expected. Please change the shape of y to (n_samples,), for example using ravel().\n",
      "  \n"
     ]
    },
    {
     "name": "stdout",
     "output_type": "stream",
     "text": [
      "427.79215085718477\n",
      "300 7 "
     ]
    },
    {
     "name": "stderr",
     "output_type": "stream",
     "text": [
      "/opt/conda/lib/python3.7/site-packages/ipykernel_launcher.py:6: DataConversionWarning: A column-vector y was passed when a 1d array was expected. Please change the shape of y to (n_samples,), for example using ravel().\n",
      "  \n"
     ]
    },
    {
     "name": "stdout",
     "output_type": "stream",
     "text": [
      "427.78713197275135\n",
      "CPU times: user 1h 33min, sys: 1.45 s, total: 1h 33min 2s\n",
      "Wall time: 1h 34min 27s\n"
     ]
    }
   ],
   "source": [
    "%%time\n",
    "for i in range(100, 400, 100):\n",
    "    learning_random_forest(n_est=i)"
   ]
  },
  {
   "cell_type": "markdown",
   "metadata": {},
   "source": [
    "**Особой разницы в качестве не наблюдается, лучше всего себя показал лес из 100 деревьев с результатом MAE = 427.76 сек.**"
   ]
  },
  {
   "cell_type": "markdown",
   "metadata": {},
   "source": [
    "Обучим градиентный бустинг с разной максимальной глубиной деревьев"
   ]
  },
  {
   "cell_type": "code",
   "execution_count": 29,
   "metadata": {},
   "outputs": [
    {
     "name": "stdout",
     "output_type": "stream",
     "text": [
      "100 0.1 5 "
     ]
    },
    {
     "name": "stderr",
     "output_type": "stream",
     "text": [
      "/opt/conda/lib/python3.7/site-packages/sklearn/utils/validation.py:72: DataConversionWarning: A column-vector y was passed when a 1d array was expected. Please change the shape of y to (n_samples, ), for example using ravel().\n",
      "  return f(**kwargs)\n"
     ]
    },
    {
     "name": "stdout",
     "output_type": "stream",
     "text": [
      "420.1015799105426\n",
      "100 0.1 10 "
     ]
    },
    {
     "name": "stderr",
     "output_type": "stream",
     "text": [
      "/opt/conda/lib/python3.7/site-packages/sklearn/utils/validation.py:72: DataConversionWarning: A column-vector y was passed when a 1d array was expected. Please change the shape of y to (n_samples, ), for example using ravel().\n",
      "  return f(**kwargs)\n"
     ]
    },
    {
     "name": "stdout",
     "output_type": "stream",
     "text": [
      "418.42158952591615\n",
      "100 0.1 15 "
     ]
    },
    {
     "name": "stderr",
     "output_type": "stream",
     "text": [
      "/opt/conda/lib/python3.7/site-packages/sklearn/utils/validation.py:72: DataConversionWarning: A column-vector y was passed when a 1d array was expected. Please change the shape of y to (n_samples, ), for example using ravel().\n",
      "  return f(**kwargs)\n"
     ]
    },
    {
     "name": "stdout",
     "output_type": "stream",
     "text": [
      "418.9376060249802\n",
      "CPU times: user 13min 32s, sys: 1.78 s, total: 13min 34s\n",
      "Wall time: 13min 49s\n"
     ]
    }
   ],
   "source": [
    "%%time\n",
    "for i in range(5, 16, 5):\n",
    "    learning_GradientBoosting(md=i)"
   ]
  },
  {
   "cell_type": "markdown",
   "metadata": {},
   "source": [
    "**Лучшее качество наблюдается при макс. глубине 10**"
   ]
  },
  {
   "cell_type": "markdown",
   "metadata": {},
   "source": [
    "**Попробуем также подобрать скорость обучения**"
   ]
  },
  {
   "cell_type": "code",
   "execution_count": 32,
   "metadata": {},
   "outputs": [
    {
     "name": "stdout",
     "output_type": "stream",
     "text": [
      "100 0.01 10 "
     ]
    },
    {
     "name": "stderr",
     "output_type": "stream",
     "text": [
      "/opt/conda/lib/python3.7/site-packages/sklearn/utils/validation.py:72: DataConversionWarning: A column-vector y was passed when a 1d array was expected. Please change the shape of y to (n_samples, ), for example using ravel().\n",
      "  return f(**kwargs)\n"
     ]
    },
    {
     "name": "stdout",
     "output_type": "stream",
     "text": [
      "418.44822013660223\n",
      "100 0.1 10 "
     ]
    },
    {
     "name": "stderr",
     "output_type": "stream",
     "text": [
      "/opt/conda/lib/python3.7/site-packages/sklearn/utils/validation.py:72: DataConversionWarning: A column-vector y was passed when a 1d array was expected. Please change the shape of y to (n_samples, ), for example using ravel().\n",
      "  return f(**kwargs)\n"
     ]
    },
    {
     "name": "stdout",
     "output_type": "stream",
     "text": [
      "418.4504681293619\n",
      "100 1.0 10 "
     ]
    },
    {
     "name": "stderr",
     "output_type": "stream",
     "text": [
      "/opt/conda/lib/python3.7/site-packages/sklearn/utils/validation.py:72: DataConversionWarning: A column-vector y was passed when a 1d array was expected. Please change the shape of y to (n_samples, ), for example using ravel().\n",
      "  return f(**kwargs)\n"
     ]
    },
    {
     "name": "stdout",
     "output_type": "stream",
     "text": [
      "418.4612863691927\n",
      "100 10.0 10 "
     ]
    },
    {
     "name": "stderr",
     "output_type": "stream",
     "text": [
      "/opt/conda/lib/python3.7/site-packages/sklearn/utils/validation.py:72: DataConversionWarning: A column-vector y was passed when a 1d array was expected. Please change the shape of y to (n_samples, ), for example using ravel().\n",
      "  return f(**kwargs)\n"
     ]
    },
    {
     "name": "stdout",
     "output_type": "stream",
     "text": [
      "418.5004424825694\n",
      "CPU times: user 14min 26s, sys: 1.69 s, total: 14min 27s\n",
      "Wall time: 14min 39s\n"
     ]
    }
   ],
   "source": [
    "%%time\n",
    "for i in np.arange(-2, 2):\n",
    "    learning_GradientBoosting(lr=pow(10.0,i), md=10)"
   ]
  },
  {
   "cell_type": "markdown",
   "metadata": {},
   "source": [
    "**Особой разницы не наблюдается, однако лучший результат был показан при наименьшем значении lr. Посмотрим на качество при еще более низком значении lr.**"
   ]
  },
  {
   "cell_type": "code",
   "execution_count": 33,
   "metadata": {},
   "outputs": [
    {
     "name": "stdout",
     "output_type": "stream",
     "text": [
      "100 1e-05 10 "
     ]
    },
    {
     "name": "stderr",
     "output_type": "stream",
     "text": [
      "/opt/conda/lib/python3.7/site-packages/sklearn/utils/validation.py:72: DataConversionWarning: A column-vector y was passed when a 1d array was expected. Please change the shape of y to (n_samples, ), for example using ravel().\n",
      "  return f(**kwargs)\n"
     ]
    },
    {
     "name": "stdout",
     "output_type": "stream",
     "text": [
      "418.4757660736668\n",
      "100 0.0001 10 "
     ]
    },
    {
     "name": "stderr",
     "output_type": "stream",
     "text": [
      "/opt/conda/lib/python3.7/site-packages/sklearn/utils/validation.py:72: DataConversionWarning: A column-vector y was passed when a 1d array was expected. Please change the shape of y to (n_samples, ), for example using ravel().\n",
      "  return f(**kwargs)\n"
     ]
    },
    {
     "name": "stdout",
     "output_type": "stream",
     "text": [
      "418.44451784155973\n",
      "100 0.001 10 "
     ]
    },
    {
     "name": "stderr",
     "output_type": "stream",
     "text": [
      "/opt/conda/lib/python3.7/site-packages/sklearn/utils/validation.py:72: DataConversionWarning: A column-vector y was passed when a 1d array was expected. Please change the shape of y to (n_samples, ), for example using ravel().\n",
      "  return f(**kwargs)\n"
     ]
    },
    {
     "name": "stdout",
     "output_type": "stream",
     "text": [
      "418.46081417502467\n",
      "CPU times: user 11min 3s, sys: 1.61 s, total: 11min 5s\n",
      "Wall time: 11min 17s\n"
     ]
    }
   ],
   "source": [
    "%%time\n",
    "for i in np.arange(-5, -2):\n",
    "    learning_GradientBoosting(lr=pow(10.0,i), md=10)"
   ]
  },
  {
   "cell_type": "markdown",
   "metadata": {},
   "source": [
    "**Лучшее качество наблюдается при lr=0.0001. При нем достигается значение MAE=418.44 сек.**"
   ]
  },
  {
   "cell_type": "markdown",
   "metadata": {},
   "source": [
    "**Попробуем линейную регрессию**"
   ]
  },
  {
   "cell_type": "code",
   "execution_count": 28,
   "metadata": {},
   "outputs": [
    {
     "name": "stdout",
     "output_type": "stream",
     "text": [
      "0.8 2384200\n",
      "441.60563400572266\n",
      "CPU times: user 1.48 s, sys: 121 ms, total: 1.6 s\n",
      "Wall time: 1.3 s\n"
     ]
    }
   ],
   "source": [
    "%%time\n",
    "learning_linear()"
   ]
  },
  {
   "cell_type": "markdown",
   "metadata": {},
   "source": [
    "**Худший результат. Лишь на несколько секунд превосходит качество наивного прогноза.**"
   ]
  },
  {
   "cell_type": "markdown",
   "metadata": {},
   "source": [
    "**Наконец обучим XGBoost**"
   ]
  },
  {
   "cell_type": "code",
   "execution_count": 32,
   "metadata": {},
   "outputs": [
    {
     "name": "stdout",
     "output_type": "stream",
     "text": [
      "800 0.125 23 0.8 370.99645250621074\n",
      "CPU times: user 2h 37min 31s, sys: 28.6 s, total: 2h 37min 59s\n",
      "Wall time: 41min 10s\n"
     ]
    }
   ],
   "source": [
    "%%time\n",
    "learning_XGB(n_est=800, lr=0.125, md=23)"
   ]
  },
  {
   "cell_type": "markdown",
   "metadata": {},
   "source": [
    "**В процессе подбора параметров, который в этот ноутбук не вошел, выяснилось, что из всех опробованных параметров лучшими оказались: n_estimators=800, learning_rate=0.125, max_depth=23, остальные параметры по умолчанию**"
   ]
  },
  {
   "cell_type": "markdown",
   "metadata": {},
   "source": [
    "Лучший результат показал XGBoost(MAE=371 сек.). Таким образом нам удалось улучшить качество прогноза по сравнению с наивным на 72 секунды"
   ]
  }
 ],
 "metadata": {
  "kernelspec": {
   "display_name": "Python 3",
   "language": "python",
   "name": "python3"
  },
  "language_info": {
   "codemirror_mode": {
    "name": "ipython",
    "version": 3
   },
   "file_extension": ".py",
   "mimetype": "text/x-python",
   "name": "python",
   "nbconvert_exporter": "python",
   "pygments_lexer": "ipython3",
   "version": "3.7.4"
  }
 },
 "nbformat": 4,
 "nbformat_minor": 4
}
